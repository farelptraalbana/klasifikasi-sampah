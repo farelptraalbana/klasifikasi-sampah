{
  "cells": [
    {
      "cell_type": "code",
      "execution_count": null,
      "metadata": {},
      "outputs": [],
      "source": [
        "!git clone https://github.com/farelptraalbana/klasifikasi-faster-rcnn.git"
      ]
    },
    {
      "cell_type": "code",
      "execution_count": null,
      "metadata": {},
      "outputs": [],
      "source": [
        "%cd /content/klasifikasi-faster-rcnn"
      ]
    },
    {
      "cell_type": "code",
      "execution_count": null,
      "metadata": {
        "id": "k4cacbH66wds"
      },
      "outputs": [],
      "source": [
        "import torch\n",
        "import numpy as np\n",
        "import cv2\n",
        "import os\n",
        "import pandas as pd\n",
        "import torchvision\n",
        "from torchvision.models.detection.faster_rcnn import FastRCNNPredictor\n",
        "\n",
        "saved_model = \"saved_model\"  # Output directory of the save the model\n",
        "filename = \"IMG_2558.JPG\"    # Image filename\n",
        "img_path = \"cards_dataset/validation/\" + filename\n",
        "\n",
        "with open('labels.txt', 'r') as f:\n",
        "\tstring = f.read()\n",
        "\tlabels_dict = eval(string)\n",
        "\n",
        "def get_model(num_classes):\n",
        "\n",
        "\t# Load an pre-trained object detectin model (in this case faster-rcnn)\n",
        "\tmodel = torchvision.models.detection.fasterrcnn_resnet50_fpn(pretrained = True)\n",
        "\n",
        "\t# Number of input features\n",
        "\tin_features = model.roi_heads.box_predictor.cls_score.in_features\n",
        "\n",
        "\t# Replace the pre-trained head with a new head\n",
        "\tmodel.roi_heads.box_predictor = FastRCNNPredictor(in_features, num_classes)\n",
        "\n",
        "\treturn model\n",
        "\n",
        "image = cv2.imread(img_path)\n",
        "img = cv2.cvtColor(image, cv2.COLOR_BGR2RGB)\n",
        "img = torchvision.transforms.ToTensor()(img)\n",
        "\n",
        "loaded_model = get_model(6)\n",
        "loaded_model.load_state_dict(torch.load(os.path.join(saved_model, 'model'), map_location = 'cpu'))\n",
        "\n",
        "loaded_model.eval()\n",
        "with torch.no_grad():\n",
        "\tprediction = loaded_model([img])\n",
        "\n",
        "for element in range(len(prediction[0]['boxes'])):\n",
        "\tx, y, w, h = prediction[0]['boxes'][element].numpy().astype(int)\n",
        "\tscore = np.round(prediction[0]['scores'][element].numpy(), decimals = 3)\n",
        "\tlabel_index = prediction[0]['labels'][element].numpy()\n",
        "\tlabel = labels_dict[int(label_index)]\n",
        "\n",
        "\tif score > 0.7:\n",
        "\t\tcv2.rectangle(image, (x, y), (w, h), (0, 0, 255), 2)\n",
        "\t\ttext = str(label) + \" \" + str(score)\n",
        "\t\tcv2.putText(image, text, (x, y), cv2.FONT_HERSHEY_SIMPLEX, 0.5,\n",
        "\t\t\t\t\t (255, 255, 255), 1)\n",
        "\n",
        "cv2.imshow(\"Predictions\", image)\n",
        "cv2.waitKey(0)"
      ]
    }
  ],
  "metadata": {
    "colab": {
      "provenance": []
    },
    "kernelspec": {
      "display_name": "Python 3",
      "name": "python3"
    },
    "language_info": {
      "codemirror_mode": {
        "name": "ipython",
        "version": 3
      },
      "file_extension": ".py",
      "mimetype": "text/x-python",
      "name": "python",
      "nbconvert_exporter": "python",
      "pygments_lexer": "ipython3",
      "version": "3.12.1"
    }
  },
  "nbformat": 4,
  "nbformat_minor": 0
}
